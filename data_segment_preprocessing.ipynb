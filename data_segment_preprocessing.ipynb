{
 "cells": [
  {
   "cell_type": "code",
   "execution_count": 2,
   "metadata": {},
   "outputs": [],
   "source": [
    "import pandas as pd\n",
    "import numpy as np\n",
    "from sklearn.decomposition import PCA"
   ]
  },
  {
   "cell_type": "code",
   "execution_count": 3,
   "metadata": {},
   "outputs": [],
   "source": [
    "data = pd.read_csv(\"segmented_data.csv\")"
   ]
  },
  {
   "cell_type": "code",
   "execution_count": 4,
   "metadata": {},
   "outputs": [
    {
     "data": {
      "text/html": [
       "<div>\n",
       "<style scoped>\n",
       "    .dataframe tbody tr th:only-of-type {\n",
       "        vertical-align: middle;\n",
       "    }\n",
       "\n",
       "    .dataframe tbody tr th {\n",
       "        vertical-align: top;\n",
       "    }\n",
       "\n",
       "    .dataframe thead th {\n",
       "        text-align: right;\n",
       "    }\n",
       "</style>\n",
       "<table border=\"1\" class=\"dataframe\">\n",
       "  <thead>\n",
       "    <tr style=\"text-align: right;\">\n",
       "      <th></th>\n",
       "      <th>Unnamed: 0</th>\n",
       "      <th>roles</th>\n",
       "      <th>companies</th>\n",
       "      <th>locations</th>\n",
       "      <th>experience</th>\n",
       "      <th>skills</th>\n",
       "      <th>skill index</th>\n",
       "    </tr>\n",
       "  </thead>\n",
       "  <tbody>\n",
       "    <tr>\n",
       "      <th>0</th>\n",
       "      <td>0</td>\n",
       "      <td>Data Scientist - Lead / Architect  Wipro</td>\n",
       "      <td>Wipro</td>\n",
       "      <td>'Kochi', ' Kolkata', ' Pune', ' Gurgaon', ' Ch...</td>\n",
       "      <td>5-10</td>\n",
       "      <td>['_', 'data science', '_', '_', '_', 'python',...</td>\n",
       "      <td>-1.0</td>\n",
       "    </tr>\n",
       "    <tr>\n",
       "      <th>1</th>\n",
       "      <td>1</td>\n",
       "      <td>Urgent Requirement || Data Scientist || Noida</td>\n",
       "      <td>HCL</td>\n",
       "      <td>'Noida', 'Delhi'</td>\n",
       "      <td>3-8</td>\n",
       "      <td>['_', 'it skills', '_', 'python', '_', 'machin...</td>\n",
       "      <td>-1.0</td>\n",
       "    </tr>\n",
       "    <tr>\n",
       "      <th>2</th>\n",
       "      <td>2</td>\n",
       "      <td>Global Tax Automation &amp; Operations - Data Scie...</td>\n",
       "      <td>Dell</td>\n",
       "      <td>'Bangalore'</td>\n",
       "      <td>3-5</td>\n",
       "      <td>['_', 'artificial intelligence', '_', 'data sc...</td>\n",
       "      <td>-1.0</td>\n",
       "    </tr>\n",
       "    <tr>\n",
       "      <th>3</th>\n",
       "      <td>3</td>\n",
       "      <td>Data Analyst / Data Scientist / Business Analy...</td>\n",
       "      <td>GABA Consultancy services</td>\n",
       "      <td>'Noida', ' New Delhi', 'Delhi'</td>\n",
       "      <td>0-0</td>\n",
       "      <td>['_', '_', '_', '_', '_', '_', '_', '_', '_', ...</td>\n",
       "      <td>-1.0</td>\n",
       "    </tr>\n",
       "    <tr>\n",
       "      <th>4</th>\n",
       "      <td>4</td>\n",
       "      <td>Technical Architect/ Data Scientist</td>\n",
       "      <td>DMI Innovations Pvt. Ltd</td>\n",
       "      <td>'Noida', ' Pune', ' Chennai', 'Bangalore'</td>\n",
       "      <td>8-13</td>\n",
       "      <td>['_', 'it skills', '_', 'python', '_', '_', '_...</td>\n",
       "      <td>-1.0</td>\n",
       "    </tr>\n",
       "  </tbody>\n",
       "</table>\n",
       "</div>"
      ],
      "text/plain": [
       "   Unnamed: 0                                              roles  \\\n",
       "0           0           Data Scientist - Lead / Architect  Wipro   \n",
       "1           1      Urgent Requirement || Data Scientist || Noida   \n",
       "2           2  Global Tax Automation & Operations - Data Scie...   \n",
       "3           3  Data Analyst / Data Scientist / Business Analy...   \n",
       "4           4                Technical Architect/ Data Scientist   \n",
       "\n",
       "                   companies  \\\n",
       "0                      Wipro   \n",
       "1                        HCL   \n",
       "2                       Dell   \n",
       "3  GABA Consultancy services   \n",
       "4   DMI Innovations Pvt. Ltd   \n",
       "\n",
       "                                           locations experience  \\\n",
       "0  'Kochi', ' Kolkata', ' Pune', ' Gurgaon', ' Ch...      5-10    \n",
       "1                                   'Noida', 'Delhi'       3-8    \n",
       "2                                        'Bangalore'       3-5    \n",
       "3                     'Noida', ' New Delhi', 'Delhi'       0-0    \n",
       "4          'Noida', ' Pune', ' Chennai', 'Bangalore'      8-13    \n",
       "\n",
       "                                              skills  skill index  \n",
       "0  ['_', 'data science', '_', '_', '_', 'python',...         -1.0  \n",
       "1  ['_', 'it skills', '_', 'python', '_', 'machin...         -1.0  \n",
       "2  ['_', 'artificial intelligence', '_', 'data sc...         -1.0  \n",
       "3  ['_', '_', '_', '_', '_', '_', '_', '_', '_', ...         -1.0  \n",
       "4  ['_', 'it skills', '_', 'python', '_', '_', '_...         -1.0  "
      ]
     },
     "execution_count": 4,
     "metadata": {},
     "output_type": "execute_result"
    }
   ],
   "source": [
    "data.head()"
   ]
  },
  {
   "cell_type": "code",
   "execution_count": 5,
   "metadata": {},
   "outputs": [],
   "source": [
    "k = data.loc[1,'skills']\n",
    "k = k.split(\"'\")\n",
    "to_remove = list(dict.fromkeys(k))"
   ]
  },
  {
   "cell_type": "code",
   "execution_count": 6,
   "metadata": {},
   "outputs": [],
   "source": [
    "new_rem = []\n",
    "for i in range(len(to_remove)):\n",
    "    if to_remove[i][0].isalnum() is False:\n",
    "        new_rem.append(to_remove[i])"
   ]
  },
  {
   "cell_type": "code",
   "execution_count": 7,
   "metadata": {},
   "outputs": [
    {
     "name": "stdout",
     "output_type": "stream",
     "text": [
      "['[', '_', ', ', ']']\n"
     ]
    }
   ],
   "source": [
    "print(new_rem)"
   ]
  },
  {
   "cell_type": "code",
   "execution_count": 8,
   "metadata": {},
   "outputs": [],
   "source": [
    "for i in range(len(data)):\n",
    "    k = data.loc[i,'skills'].split(\"'\")\n",
    "    without_ = []\n",
    "    for l in range(len(k)):\n",
    "        if k[l] not in new_rem:\n",
    "            without_.append(k[l])        \n",
    "    if len(without_)==0:\n",
    "        data.loc[i,'skills'] = \"None\"\n",
    "    else:\n",
    "        data.loc[i,'skills'] = str(without_)"
   ]
  },
  {
   "cell_type": "code",
   "execution_count": 9,
   "metadata": {},
   "outputs": [
    {
     "data": {
      "text/plain": [
       "str"
      ]
     },
     "execution_count": 9,
     "metadata": {},
     "output_type": "execute_result"
    }
   ],
   "source": [
    "type(data.loc[1,'skills'])"
   ]
  },
  {
   "cell_type": "code",
   "execution_count": 10,
   "metadata": {},
   "outputs": [
    {
     "data": {
      "text/html": [
       "<div>\n",
       "<style scoped>\n",
       "    .dataframe tbody tr th:only-of-type {\n",
       "        vertical-align: middle;\n",
       "    }\n",
       "\n",
       "    .dataframe tbody tr th {\n",
       "        vertical-align: top;\n",
       "    }\n",
       "\n",
       "    .dataframe thead th {\n",
       "        text-align: right;\n",
       "    }\n",
       "</style>\n",
       "<table border=\"1\" class=\"dataframe\">\n",
       "  <thead>\n",
       "    <tr style=\"text-align: right;\">\n",
       "      <th></th>\n",
       "      <th>Unnamed: 0</th>\n",
       "      <th>roles</th>\n",
       "      <th>companies</th>\n",
       "      <th>locations</th>\n",
       "      <th>experience</th>\n",
       "      <th>skills</th>\n",
       "      <th>skill index</th>\n",
       "    </tr>\n",
       "  </thead>\n",
       "  <tbody>\n",
       "    <tr>\n",
       "      <th>0</th>\n",
       "      <td>0</td>\n",
       "      <td>Data Scientist - Lead / Architect  Wipro</td>\n",
       "      <td>Wipro</td>\n",
       "      <td>'Kochi', ' Kolkata', ' Pune', ' Gurgaon', ' Ch...</td>\n",
       "      <td>5-10</td>\n",
       "      <td>['data science', 'python', 'it skills', 'artif...</td>\n",
       "      <td>-1.0</td>\n",
       "    </tr>\n",
       "    <tr>\n",
       "      <th>1</th>\n",
       "      <td>1</td>\n",
       "      <td>Urgent Requirement || Data Scientist || Noida</td>\n",
       "      <td>HCL</td>\n",
       "      <td>'Noida', 'Delhi'</td>\n",
       "      <td>3-8</td>\n",
       "      <td>['it skills', 'python', 'machine learning']</td>\n",
       "      <td>-1.0</td>\n",
       "    </tr>\n",
       "    <tr>\n",
       "      <th>2</th>\n",
       "      <td>2</td>\n",
       "      <td>Global Tax Automation &amp; Operations - Data Scie...</td>\n",
       "      <td>Dell</td>\n",
       "      <td>'Bangalore'</td>\n",
       "      <td>3-5</td>\n",
       "      <td>['artificial intelligence', 'data science', 'i...</td>\n",
       "      <td>-1.0</td>\n",
       "    </tr>\n",
       "    <tr>\n",
       "      <th>3</th>\n",
       "      <td>3</td>\n",
       "      <td>Data Analyst / Data Scientist / Business Analy...</td>\n",
       "      <td>GABA Consultancy services</td>\n",
       "      <td>'Noida', ' New Delhi', 'Delhi'</td>\n",
       "      <td>0-0</td>\n",
       "      <td>None</td>\n",
       "      <td>-1.0</td>\n",
       "    </tr>\n",
       "    <tr>\n",
       "      <th>4</th>\n",
       "      <td>4</td>\n",
       "      <td>Technical Architect/ Data Scientist</td>\n",
       "      <td>DMI Innovations Pvt. Ltd</td>\n",
       "      <td>'Noida', ' Pune', ' Chennai', 'Bangalore'</td>\n",
       "      <td>8-13</td>\n",
       "      <td>['it skills', 'python', 'data science', 'machi...</td>\n",
       "      <td>-1.0</td>\n",
       "    </tr>\n",
       "  </tbody>\n",
       "</table>\n",
       "</div>"
      ],
      "text/plain": [
       "   Unnamed: 0                                              roles  \\\n",
       "0           0           Data Scientist - Lead / Architect  Wipro   \n",
       "1           1      Urgent Requirement || Data Scientist || Noida   \n",
       "2           2  Global Tax Automation & Operations - Data Scie...   \n",
       "3           3  Data Analyst / Data Scientist / Business Analy...   \n",
       "4           4                Technical Architect/ Data Scientist   \n",
       "\n",
       "                   companies  \\\n",
       "0                      Wipro   \n",
       "1                        HCL   \n",
       "2                       Dell   \n",
       "3  GABA Consultancy services   \n",
       "4   DMI Innovations Pvt. Ltd   \n",
       "\n",
       "                                           locations experience  \\\n",
       "0  'Kochi', ' Kolkata', ' Pune', ' Gurgaon', ' Ch...      5-10    \n",
       "1                                   'Noida', 'Delhi'       3-8    \n",
       "2                                        'Bangalore'       3-5    \n",
       "3                     'Noida', ' New Delhi', 'Delhi'       0-0    \n",
       "4          'Noida', ' Pune', ' Chennai', 'Bangalore'      8-13    \n",
       "\n",
       "                                              skills  skill index  \n",
       "0  ['data science', 'python', 'it skills', 'artif...         -1.0  \n",
       "1        ['it skills', 'python', 'machine learning']         -1.0  \n",
       "2  ['artificial intelligence', 'data science', 'i...         -1.0  \n",
       "3                                               None         -1.0  \n",
       "4  ['it skills', 'python', 'data science', 'machi...         -1.0  "
      ]
     },
     "execution_count": 10,
     "metadata": {},
     "output_type": "execute_result"
    }
   ],
   "source": [
    "data.head()"
   ]
  },
  {
   "cell_type": "code",
   "execution_count": 11,
   "metadata": {},
   "outputs": [],
   "source": [
    "def remove_sqrbrct(string):\n",
    "    for i in range(len(data)):\n",
    "        k = data.loc[i,string]\n",
    "        k=str(k)\n",
    "        data.loc[i,string] = k\n",
    "    data[string] = data[string].str.replace(\"^\\[|\\]|$\",\"\")\n",
    "# data.head()"
   ]
  },
  {
   "cell_type": "code",
   "execution_count": 12,
   "metadata": {},
   "outputs": [
    {
     "name": "stderr",
     "output_type": "stream",
     "text": [
      "<ipython-input-11-e6c84e9a46d0>:6: FutureWarning: The default value of regex will change from True to False in a future version.\n",
      "  data[string] = data[string].str.replace(\"^\\[|\\]|$\",\"\")\n"
     ]
    }
   ],
   "source": [
    "remove_sqrbrct('skills')"
   ]
  },
  {
   "cell_type": "code",
   "execution_count": 13,
   "metadata": {},
   "outputs": [
    {
     "data": {
      "text/html": [
       "<div>\n",
       "<style scoped>\n",
       "    .dataframe tbody tr th:only-of-type {\n",
       "        vertical-align: middle;\n",
       "    }\n",
       "\n",
       "    .dataframe tbody tr th {\n",
       "        vertical-align: top;\n",
       "    }\n",
       "\n",
       "    .dataframe thead th {\n",
       "        text-align: right;\n",
       "    }\n",
       "</style>\n",
       "<table border=\"1\" class=\"dataframe\">\n",
       "  <thead>\n",
       "    <tr style=\"text-align: right;\">\n",
       "      <th></th>\n",
       "      <th>Unnamed: 0</th>\n",
       "      <th>roles</th>\n",
       "      <th>companies</th>\n",
       "      <th>locations</th>\n",
       "      <th>experience</th>\n",
       "      <th>skills</th>\n",
       "      <th>skill index</th>\n",
       "    </tr>\n",
       "  </thead>\n",
       "  <tbody>\n",
       "    <tr>\n",
       "      <th>0</th>\n",
       "      <td>0</td>\n",
       "      <td>Data Scientist - Lead / Architect  Wipro</td>\n",
       "      <td>Wipro</td>\n",
       "      <td>'Kochi', ' Kolkata', ' Pune', ' Gurgaon', ' Ch...</td>\n",
       "      <td>5-10</td>\n",
       "      <td>'data science', 'python', 'it skills', 'artifi...</td>\n",
       "      <td>-1.0</td>\n",
       "    </tr>\n",
       "    <tr>\n",
       "      <th>1</th>\n",
       "      <td>1</td>\n",
       "      <td>Urgent Requirement || Data Scientist || Noida</td>\n",
       "      <td>HCL</td>\n",
       "      <td>'Noida', 'Delhi'</td>\n",
       "      <td>3-8</td>\n",
       "      <td>'it skills', 'python', 'machine learning'</td>\n",
       "      <td>-1.0</td>\n",
       "    </tr>\n",
       "    <tr>\n",
       "      <th>2</th>\n",
       "      <td>2</td>\n",
       "      <td>Global Tax Automation &amp; Operations - Data Scie...</td>\n",
       "      <td>Dell</td>\n",
       "      <td>'Bangalore'</td>\n",
       "      <td>3-5</td>\n",
       "      <td>'artificial intelligence', 'data science', 'it...</td>\n",
       "      <td>-1.0</td>\n",
       "    </tr>\n",
       "    <tr>\n",
       "      <th>3</th>\n",
       "      <td>3</td>\n",
       "      <td>Data Analyst / Data Scientist / Business Analy...</td>\n",
       "      <td>GABA Consultancy services</td>\n",
       "      <td>'Noida', ' New Delhi', 'Delhi'</td>\n",
       "      <td>0-0</td>\n",
       "      <td>None</td>\n",
       "      <td>-1.0</td>\n",
       "    </tr>\n",
       "    <tr>\n",
       "      <th>4</th>\n",
       "      <td>4</td>\n",
       "      <td>Technical Architect/ Data Scientist</td>\n",
       "      <td>DMI Innovations Pvt. Ltd</td>\n",
       "      <td>'Noida', ' Pune', ' Chennai', 'Bangalore'</td>\n",
       "      <td>8-13</td>\n",
       "      <td>'it skills', 'python', 'data science', 'machin...</td>\n",
       "      <td>-1.0</td>\n",
       "    </tr>\n",
       "  </tbody>\n",
       "</table>\n",
       "</div>"
      ],
      "text/plain": [
       "   Unnamed: 0                                              roles  \\\n",
       "0           0           Data Scientist - Lead / Architect  Wipro   \n",
       "1           1      Urgent Requirement || Data Scientist || Noida   \n",
       "2           2  Global Tax Automation & Operations - Data Scie...   \n",
       "3           3  Data Analyst / Data Scientist / Business Analy...   \n",
       "4           4                Technical Architect/ Data Scientist   \n",
       "\n",
       "                   companies  \\\n",
       "0                      Wipro   \n",
       "1                        HCL   \n",
       "2                       Dell   \n",
       "3  GABA Consultancy services   \n",
       "4   DMI Innovations Pvt. Ltd   \n",
       "\n",
       "                                           locations experience  \\\n",
       "0  'Kochi', ' Kolkata', ' Pune', ' Gurgaon', ' Ch...      5-10    \n",
       "1                                   'Noida', 'Delhi'       3-8    \n",
       "2                                        'Bangalore'       3-5    \n",
       "3                     'Noida', ' New Delhi', 'Delhi'       0-0    \n",
       "4          'Noida', ' Pune', ' Chennai', 'Bangalore'      8-13    \n",
       "\n",
       "                                              skills  skill index  \n",
       "0  'data science', 'python', 'it skills', 'artifi...         -1.0  \n",
       "1          'it skills', 'python', 'machine learning'         -1.0  \n",
       "2  'artificial intelligence', 'data science', 'it...         -1.0  \n",
       "3                                               None         -1.0  \n",
       "4  'it skills', 'python', 'data science', 'machin...         -1.0  "
      ]
     },
     "execution_count": 13,
     "metadata": {},
     "output_type": "execute_result"
    }
   ],
   "source": [
    "data.head()"
   ]
  },
  {
   "cell_type": "code",
   "execution_count": 14,
   "metadata": {},
   "outputs": [],
   "source": [
    "df = data[data['skills']!='None']"
   ]
  },
  {
   "cell_type": "code",
   "execution_count": 15,
   "metadata": {},
   "outputs": [
    {
     "data": {
      "text/plain": [
       "0       'data science', 'python', 'it skills', 'artifi...\n",
       "1               'it skills', 'python', 'machine learning'\n",
       "2       'artificial intelligence', 'data science', 'it...\n",
       "4       'it skills', 'python', 'data science', 'machin...\n",
       "5       'it skills', 'python', 'data science', 'machin...\n",
       "                              ...                        \n",
       "4154            'it skills', 'python', 'machine learning'\n",
       "4155    'it skills', 'python', 'data science', 'machin...\n",
       "4156         'data science', 'machine learning', 'python'\n",
       "4158                                             'python'\n",
       "4159    'data science', 'machine learning', 'it skills...\n",
       "Name: skills, Length: 3878, dtype: object"
      ]
     },
     "execution_count": 15,
     "metadata": {},
     "output_type": "execute_result"
    }
   ],
   "source": [
    "df.skills.str.replace('data sciencist','data science')"
   ]
  },
  {
   "cell_type": "code",
   "execution_count": 17,
   "metadata": {},
   "outputs": [],
   "source": [
    "x = df.iloc[:,5].values"
   ]
  },
  {
   "cell_type": "code",
   "execution_count": 19,
   "metadata": {},
   "outputs": [],
   "source": [
    "r = x[0].split(\",\")"
   ]
  },
  {
   "cell_type": "code",
   "execution_count": 20,
   "metadata": {},
   "outputs": [
    {
     "name": "stdout",
     "output_type": "stream",
     "text": [
      "6\n"
     ]
    }
   ],
   "source": [
    "print(len(r))"
   ]
  },
  {
   "cell_type": "code",
   "execution_count": 21,
   "metadata": {},
   "outputs": [],
   "source": [
    "encoder_data = []\n",
    "for i in range(len(x)):\n",
    "    r = x[i].split(\",\")\n",
    "    encoder_data.append(r)"
   ]
  },
  {
   "cell_type": "code",
   "execution_count": 22,
   "metadata": {},
   "outputs": [],
   "source": [
    "\n",
    "for i in range(len(encoder_data)):\n",
    "    for j in range(len(encoder_data[i])):\n",
    "        encoder_data[i][j] = encoder_data[i][j].replace(\" '\",\"\")\n",
    "        encoder_data[i][j] = encoder_data[i][j].replace(\"'\",\"\")"
   ]
  },
  {
   "cell_type": "code",
   "execution_count": 23,
   "metadata": {},
   "outputs": [],
   "source": [
    "segment_array = np.array(encoder_data,dtype=object)"
   ]
  },
  {
   "cell_type": "code",
   "execution_count": 24,
   "metadata": {},
   "outputs": [],
   "source": [
    "colum = ['python', 'machine learning', 'it skills', 'data science', 'computer science', 'artificial intelligence', 'r', 'java', 'sql', 'big data']\n",
    "segment_dict ={}\n",
    "for val,key in enumerate(colum):\n",
    "    segment_dict[key] = val"
   ]
  },
  {
   "cell_type": "code",
   "execution_count": 25,
   "metadata": {},
   "outputs": [
    {
     "name": "stdout",
     "output_type": "stream",
     "text": [
      "{'python': 0, 'machine learning': 1, 'it skills': 2, 'data science': 3, 'computer science': 4, 'artificial intelligence': 5, 'r': 6, 'java': 7, 'sql': 8, 'big data': 9, 'data scientist': 3}\n"
     ]
    }
   ],
   "source": [
    "segment_dict['data scientist'] = 3\n",
    "print(segment_dict)"
   ]
  },
  {
   "cell_type": "code",
   "execution_count": 26,
   "metadata": {},
   "outputs": [
    {
     "name": "stdout",
     "output_type": "stream",
     "text": [
      "['data science', 'python', 'it skills', 'artificial intelligence', 'big data', 'r']\n"
     ]
    }
   ],
   "source": [
    "print(encoder_data[0])"
   ]
  },
  {
   "cell_type": "code",
   "execution_count": 27,
   "metadata": {},
   "outputs": [
    {
     "name": "stdout",
     "output_type": "stream",
     "text": [
      "[1, None, 2, None, None, None, None, None, None, None]\n"
     ]
    }
   ],
   "source": [
    "k = [None]*10\n",
    "k[0] = 1\n",
    "k[2] = 2\n",
    "print(k)"
   ]
  },
  {
   "cell_type": "code",
   "execution_count": 28,
   "metadata": {},
   "outputs": [],
   "source": [
    "encoded_colum = []\n",
    "for i in range(len(encoder_data)):\n",
    "    temp = [0]*10\n",
    "    for j in range(len(encoder_data[i])):\n",
    "        temp[segment_dict[encoder_data[i][j]]] = 1\n",
    "    encoded_colum.append(temp)"
   ]
  },
  {
   "cell_type": "code",
   "execution_count": 29,
   "metadata": {},
   "outputs": [
    {
     "data": {
      "text/plain": [
       "3878"
      ]
     },
     "execution_count": 29,
     "metadata": {},
     "output_type": "execute_result"
    }
   ],
   "source": [
    "len(encoded_colum)"
   ]
  },
  {
   "cell_type": "code",
   "execution_count": 30,
   "metadata": {},
   "outputs": [],
   "source": [
    "df.to_csv('final_till_12_03.csv')"
   ]
  },
  {
   "cell_type": "code",
   "execution_count": 31,
   "metadata": {},
   "outputs": [],
   "source": [
    "encoded_df = pd.DataFrame(columns=colum,data = encoded_colum)"
   ]
  },
  {
   "cell_type": "code",
   "execution_count": 33,
   "metadata": {},
   "outputs": [],
   "source": [
    "pca = PCA()\n",
    "principal_comp = pca.fit_transform(encoded_df)"
   ]
  },
  {
   "cell_type": "code",
   "execution_count": 34,
   "metadata": {},
   "outputs": [
    {
     "name": "stdout",
     "output_type": "stream",
     "text": [
      "(3878, 10)\n"
     ]
    }
   ],
   "source": [
    "print(principal_comp.shape)"
   ]
  },
  {
   "cell_type": "code",
   "execution_count": 35,
   "metadata": {},
   "outputs": [],
   "source": [
    "pca_encoded_data = pd.DataFrame(columns=['pc1','pc2','pc3','pc4','pc5','pc6','pc7','pc8','pc9','pc10'],data= principal_comp)"
   ]
  },
  {
   "cell_type": "code",
   "execution_count": 36,
   "metadata": {},
   "outputs": [],
   "source": [
    "pca_encoded_data.to_csv('pca_skills.csv')\n",
    "encoded_df.to_csv('encoded_skills_data.csv')"
   ]
  }
 ],
 "metadata": {
  "interpreter": {
   "hash": "b67277703e4e03d4913fd324b008a8c782f8a474d6a5c5bfbeaeadcab747c5e8"
  },
  "kernelspec": {
   "display_name": "Python 3.8.0 ('tf2.5')",
   "language": "python",
   "name": "python3"
  },
  "language_info": {
   "codemirror_mode": {
    "name": "ipython",
    "version": 3
   },
   "file_extension": ".py",
   "mimetype": "text/x-python",
   "name": "python",
   "nbconvert_exporter": "python",
   "pygments_lexer": "ipython3",
   "version": "3.8.0"
  },
  "orig_nbformat": 4
 },
 "nbformat": 4,
 "nbformat_minor": 2
}
