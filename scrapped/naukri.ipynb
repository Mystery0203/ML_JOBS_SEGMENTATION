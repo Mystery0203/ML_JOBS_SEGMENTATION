{
 "cells": [
  {
   "cell_type": "code",
   "execution_count": 1,
   "metadata": {},
   "outputs": [],
   "source": [
    "import pandas as pd\n",
    "import numpy as np\n",
    "from pandas_profiling import ProfileReport"
   ]
  },
  {
   "cell_type": "code",
   "execution_count": 2,
   "metadata": {},
   "outputs": [],
   "source": [
    "df = pd.read_csv('scrapped.csv')\n",
    "prof = ProfileReport(df)"
   ]
  },
  {
   "cell_type": "code",
   "execution_count": 3,
   "metadata": {},
   "outputs": [
    {
     "name": "stderr",
     "output_type": "stream",
     "text": [
      "Summarize dataset: 100%|██████████| 22/22 [00:03<00:00,  5.78it/s, Completed]                     \n",
      "Generate report structure: 100%|██████████| 1/1 [00:02<00:00,  2.17s/it]\n",
      "Render HTML: 100%|██████████| 1/1 [00:00<00:00,  1.87it/s]\n",
      "Export report to file: 100%|██████████| 1/1 [00:00<00:00, 251.56it/s]\n"
     ]
    }
   ],
   "source": [
    "prof.to_file(output_file='output.html')"
   ]
  },
  {
   "cell_type": "code",
   "execution_count": 4,
   "metadata": {},
   "outputs": [
    {
     "data": {
      "text/html": [
       "<div>\n",
       "<style scoped>\n",
       "    .dataframe tbody tr th:only-of-type {\n",
       "        vertical-align: middle;\n",
       "    }\n",
       "\n",
       "    .dataframe tbody tr th {\n",
       "        vertical-align: top;\n",
       "    }\n",
       "\n",
       "    .dataframe thead th {\n",
       "        text-align: right;\n",
       "    }\n",
       "</style>\n",
       "<table border=\"1\" class=\"dataframe\">\n",
       "  <thead>\n",
       "    <tr style=\"text-align: right;\">\n",
       "      <th></th>\n",
       "      <th>Unnamed: 0</th>\n",
       "      <th>roles</th>\n",
       "      <th>companies</th>\n",
       "      <th>locations</th>\n",
       "      <th>experience</th>\n",
       "      <th>skills</th>\n",
       "    </tr>\n",
       "  </thead>\n",
       "  <tbody>\n",
       "    <tr>\n",
       "      <th>0</th>\n",
       "      <td>0</td>\n",
       "      <td>Data Scientist - Lead / Architect - Looking Fo...</td>\n",
       "      <td>Wipro</td>\n",
       "      <td>Kochi/Cochin, Kolkata, Pune, Gurgaon/Gurugram,...</td>\n",
       "      <td>5-10 Yrs</td>\n",
       "      <td>Data Science\\nSAS\\nPython\\nIT Skills\\nArtifici...</td>\n",
       "    </tr>\n",
       "    <tr>\n",
       "      <th>1</th>\n",
       "      <td>1</td>\n",
       "      <td>Urgent Requirement || Data Scientist || Noida</td>\n",
       "      <td>HCL</td>\n",
       "      <td>Noida, Delhi / NCR</td>\n",
       "      <td>3-8 Yrs</td>\n",
       "      <td>IT Skills\\nPython\\nMachine Learning\\nNLP\\nDeep...</td>\n",
       "    </tr>\n",
       "    <tr>\n",
       "      <th>2</th>\n",
       "      <td>2</td>\n",
       "      <td>Global Tax Automation &amp; Operations - Data Scie...</td>\n",
       "      <td>Dell</td>\n",
       "      <td>Bangalore/Bengaluru</td>\n",
       "      <td>3-5 Yrs</td>\n",
       "      <td>Artificial Intelligence\\nData Science\\nData An...</td>\n",
       "    </tr>\n",
       "    <tr>\n",
       "      <th>3</th>\n",
       "      <td>3</td>\n",
       "      <td>Data Analyst / Data Scientist / Business Analy...</td>\n",
       "      <td>GABA Consultancy services</td>\n",
       "      <td>Noida, New Delhi, Delhi / NCR</td>\n",
       "      <td>0-0 Yrs</td>\n",
       "      <td>O2C\\nfresher data analyst\\nPower Bi\\nBanking\\n...</td>\n",
       "    </tr>\n",
       "    <tr>\n",
       "      <th>4</th>\n",
       "      <td>4</td>\n",
       "      <td>Technical Architect/ Data Scientist</td>\n",
       "      <td>DMI Innovations Pvt. Ltd</td>\n",
       "      <td>Noida, Pune, Chennai, Bangalore/Bengaluru\\n(WF...</td>\n",
       "      <td>8-13 Yrs</td>\n",
       "      <td>IT Skills\\nPython\\nSoftware Development\\nTesti...</td>\n",
       "    </tr>\n",
       "  </tbody>\n",
       "</table>\n",
       "</div>"
      ],
      "text/plain": [
       "   Unnamed: 0                                              roles  \\\n",
       "0           0  Data Scientist - Lead / Architect - Looking Fo...   \n",
       "1           1      Urgent Requirement || Data Scientist || Noida   \n",
       "2           2  Global Tax Automation & Operations - Data Scie...   \n",
       "3           3  Data Analyst / Data Scientist / Business Analy...   \n",
       "4           4                Technical Architect/ Data Scientist   \n",
       "\n",
       "                   companies  \\\n",
       "0                      Wipro   \n",
       "1                        HCL   \n",
       "2                       Dell   \n",
       "3  GABA Consultancy services   \n",
       "4   DMI Innovations Pvt. Ltd   \n",
       "\n",
       "                                           locations experience  \\\n",
       "0  Kochi/Cochin, Kolkata, Pune, Gurgaon/Gurugram,...   5-10 Yrs   \n",
       "1                                 Noida, Delhi / NCR    3-8 Yrs   \n",
       "2                                Bangalore/Bengaluru    3-5 Yrs   \n",
       "3                      Noida, New Delhi, Delhi / NCR    0-0 Yrs   \n",
       "4  Noida, Pune, Chennai, Bangalore/Bengaluru\\n(WF...   8-13 Yrs   \n",
       "\n",
       "                                              skills  \n",
       "0  Data Science\\nSAS\\nPython\\nIT Skills\\nArtifici...  \n",
       "1  IT Skills\\nPython\\nMachine Learning\\nNLP\\nDeep...  \n",
       "2  Artificial Intelligence\\nData Science\\nData An...  \n",
       "3  O2C\\nfresher data analyst\\nPower Bi\\nBanking\\n...  \n",
       "4  IT Skills\\nPython\\nSoftware Development\\nTesti...  "
      ]
     },
     "execution_count": 4,
     "metadata": {},
     "output_type": "execute_result"
    }
   ],
   "source": [
    "df.head()"
   ]
  },
  {
   "cell_type": "code",
   "execution_count": 9,
   "metadata": {},
   "outputs": [],
   "source": [
    "df['jobtitle'].value_counts().to_csv('out.csv')"
   ]
  },
  {
   "cell_type": "code",
   "execution_count": null,
   "metadata": {},
   "outputs": [],
   "source": []
  }
 ],
 "metadata": {
  "interpreter": {
   "hash": "b67277703e4e03d4913fd324b008a8c782f8a474d6a5c5bfbeaeadcab747c5e8"
  },
  "kernelspec": {
   "display_name": "Python 3.8.0 ('tf2.5')",
   "language": "python",
   "name": "python3"
  },
  "language_info": {
   "codemirror_mode": {
    "name": "ipython",
    "version": 3
   },
   "file_extension": ".py",
   "mimetype": "text/x-python",
   "name": "python",
   "nbconvert_exporter": "python",
   "pygments_lexer": "ipython3",
   "version": "3.8.0"
  },
  "orig_nbformat": 4
 },
 "nbformat": 4,
 "nbformat_minor": 2
}
