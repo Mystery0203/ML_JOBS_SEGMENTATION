{
 "cells": [
  {
   "cell_type": "code",
   "execution_count": 558,
   "metadata": {},
   "outputs": [],
   "source": [
    "import pandas as pd\n",
    "import matplotlib.pyplot as plt\n",
    "import seaborn as sns\n",
    "import numpy as np\n",
    "import regex as re\n",
    "import copy"
   ]
  },
  {
   "cell_type": "code",
   "execution_count": 559,
   "metadata": {},
   "outputs": [
    {
     "data": {
      "text/html": [
       "<div>\n",
       "<style scoped>\n",
       "    .dataframe tbody tr th:only-of-type {\n",
       "        vertical-align: middle;\n",
       "    }\n",
       "\n",
       "    .dataframe tbody tr th {\n",
       "        vertical-align: top;\n",
       "    }\n",
       "\n",
       "    .dataframe thead th {\n",
       "        text-align: right;\n",
       "    }\n",
       "</style>\n",
       "<table border=\"1\" class=\"dataframe\">\n",
       "  <thead>\n",
       "    <tr style=\"text-align: right;\">\n",
       "      <th></th>\n",
       "      <th>Unnamed: 0</th>\n",
       "      <th>Unnamed: 0.1</th>\n",
       "      <th>Unnamed: 0.1.1</th>\n",
       "      <th>roles</th>\n",
       "      <th>companies</th>\n",
       "      <th>locations</th>\n",
       "      <th>experience</th>\n",
       "      <th>skills</th>\n",
       "    </tr>\n",
       "  </thead>\n",
       "  <tbody>\n",
       "    <tr>\n",
       "      <th>0</th>\n",
       "      <td>0</td>\n",
       "      <td>0</td>\n",
       "      <td>0</td>\n",
       "      <td>Data Scientist - Lead / Architect - Looking Fo...</td>\n",
       "      <td>Wipro</td>\n",
       "      <td>'Kochi', ' Kolkata', ' Pune', ' Gurgaon', ' Ch...</td>\n",
       "      <td>5-10</td>\n",
       "      <td>'Data Science', 'SAS', 'Python', 'IT Skills', ...</td>\n",
       "    </tr>\n",
       "    <tr>\n",
       "      <th>1</th>\n",
       "      <td>1</td>\n",
       "      <td>1</td>\n",
       "      <td>1</td>\n",
       "      <td>Urgent Requirement || Data Scientist || Noida</td>\n",
       "      <td>HCL</td>\n",
       "      <td>'Noida', 'Delhi'</td>\n",
       "      <td>3-8</td>\n",
       "      <td>'IT Skills', 'Python', 'Machine Learning', 'NL...</td>\n",
       "    </tr>\n",
       "    <tr>\n",
       "      <th>2</th>\n",
       "      <td>2</td>\n",
       "      <td>2</td>\n",
       "      <td>2</td>\n",
       "      <td>Global Tax Automation &amp; Operations - Data Scie...</td>\n",
       "      <td>Dell</td>\n",
       "      <td>'Bangalore'</td>\n",
       "      <td>3-5</td>\n",
       "      <td>'Artificial Intelligence', 'Data Science', 'Da...</td>\n",
       "    </tr>\n",
       "    <tr>\n",
       "      <th>3</th>\n",
       "      <td>3</td>\n",
       "      <td>3</td>\n",
       "      <td>3</td>\n",
       "      <td>Data Analyst / Data Scientist / Business Analy...</td>\n",
       "      <td>GABA Consultancy services</td>\n",
       "      <td>'Noida', ' New Delhi', 'Delhi'</td>\n",
       "      <td>0-0</td>\n",
       "      <td>'O2C', 'fresher data analyst', 'Power Bi', 'Ba...</td>\n",
       "    </tr>\n",
       "    <tr>\n",
       "      <th>4</th>\n",
       "      <td>4</td>\n",
       "      <td>4</td>\n",
       "      <td>4</td>\n",
       "      <td>Technical Architect/ Data Scientist</td>\n",
       "      <td>DMI Innovations Pvt. Ltd</td>\n",
       "      <td>'Noida', ' Pune', ' Chennai', 'Bangalore'</td>\n",
       "      <td>8-13</td>\n",
       "      <td>'IT Skills', 'Python', 'Software Development',...</td>\n",
       "    </tr>\n",
       "  </tbody>\n",
       "</table>\n",
       "</div>"
      ],
      "text/plain": [
       "   Unnamed: 0  Unnamed: 0.1  Unnamed: 0.1.1  \\\n",
       "0           0             0               0   \n",
       "1           1             1               1   \n",
       "2           2             2               2   \n",
       "3           3             3               3   \n",
       "4           4             4               4   \n",
       "\n",
       "                                               roles  \\\n",
       "0  Data Scientist - Lead / Architect - Looking Fo...   \n",
       "1      Urgent Requirement || Data Scientist || Noida   \n",
       "2  Global Tax Automation & Operations - Data Scie...   \n",
       "3  Data Analyst / Data Scientist / Business Analy...   \n",
       "4                Technical Architect/ Data Scientist   \n",
       "\n",
       "                   companies  \\\n",
       "0                      Wipro   \n",
       "1                        HCL   \n",
       "2                       Dell   \n",
       "3  GABA Consultancy services   \n",
       "4   DMI Innovations Pvt. Ltd   \n",
       "\n",
       "                                           locations experience  \\\n",
       "0  'Kochi', ' Kolkata', ' Pune', ' Gurgaon', ' Ch...      5-10    \n",
       "1                                   'Noida', 'Delhi'       3-8    \n",
       "2                                        'Bangalore'       3-5    \n",
       "3                     'Noida', ' New Delhi', 'Delhi'       0-0    \n",
       "4          'Noida', ' Pune', ' Chennai', 'Bangalore'      8-13    \n",
       "\n",
       "                                              skills  \n",
       "0  'Data Science', 'SAS', 'Python', 'IT Skills', ...  \n",
       "1  'IT Skills', 'Python', 'Machine Learning', 'NL...  \n",
       "2  'Artificial Intelligence', 'Data Science', 'Da...  \n",
       "3  'O2C', 'fresher data analyst', 'Power Bi', 'Ba...  \n",
       "4  'IT Skills', 'Python', 'Software Development',...  "
      ]
     },
     "execution_count": 559,
     "metadata": {},
     "output_type": "execute_result"
    }
   ],
   "source": [
    "data = pd.read_csv('final_till_01_03.csv')\n",
    "data.head()"
   ]
  },
  {
   "cell_type": "code",
   "execution_count": 560,
   "metadata": {},
   "outputs": [],
   "source": [
    "for i in range(len(data)):\n",
    "    k = str(data.loc[i,'roles'])\n",
    "    l = re.sub('- Looking For Early Joiners -','',k)\n",
    "    data.loc[i,'roles'] = l\n"
   ]
  },
  {
   "cell_type": "code",
   "execution_count": 563,
   "metadata": {},
   "outputs": [
    {
     "data": {
      "text/plain": [
       "<AxesSubplot:>"
      ]
     },
     "execution_count": 563,
     "metadata": {},
     "output_type": "execute_result"
    },
    {
     "data": {
      "image/png": "[encoded data removed]",
      "text/plain": [
       "<Figure size 432x288 with 1 Axes>"
      ]
     },
     "metadata": {
      "needs_background": "light"
     },
     "output_type": "display_data"
    }
   ],
   "source": [
    "o = data['companies'].value_counts()\n",
    "o[:15].plot.bar()"
   ]
  },
  {
   "cell_type": "code",
   "execution_count": 565,
   "metadata": {},
   "outputs": [
    {
     "name": "stdout",
     "output_type": "stream",
     "text": [
      "[\"'Noida'\", \" 'Delhi'\"]\n"
     ]
    }
   ],
   "source": [
    "print(data.loc[1,'locations'].split(','))"
   ]
  },
  {
   "cell_type": "code",
   "execution_count": 566,
   "metadata": {},
   "outputs": [],
   "source": [
    "comp_dict = {}\n",
    "for i in range(len(data)):\n",
    "    locat = data.loc[i,'locations'].split(',')\n",
    "\n",
    "    compan = str(data.loc[i,'companies'])\n",
    "    for k in range(len(locat)):\n",
    "        if k == 0:\n",
    "            locat[k] = locat[k][1:-1]\n",
    "        else:\n",
    "            locat[k] = locat[k][2:-1]\n",
    "        if compan not in comp_dict.keys():\n",
    "            comp_dict[compan] = locat\n",
    "        else:\n",
    "            for l in locat:\n",
    "                if l not in comp_dict[compan]:\n",
    "                    comp_dict[compan].append(l)"
   ]
  },
  {
   "cell_type": "code",
   "execution_count": 567,
   "metadata": {},
   "outputs": [],
   "source": [
    "for key in comp_dict.keys():\n",
    "    new_loc = []\n",
    "    locations = comp_dict[key]\n",
    "    for i in range(len(locations)):\n",
    "        dict_location_len = len(locations[i])\n",
    "        for k in range(len(new_loc)):\n",
    "            if dict_location_len < len(new_loc[k]):\n",
    "                if locations.find(new_loc[k])!=-1:\n",
    "                    new_loc.append(locations)\n",
    "                    new_loc.pop(k)\n",
    "            else :\n",
    "                new_loc.append()"
   ]
  },
  {
   "cell_type": "code",
   "execution_count": 568,
   "metadata": {},
   "outputs": [],
   "source": [
    "for key in comp_dict.keys():\n",
    "    locations = comp_dict[key]\n",
    "   \n",
    "    for i in range(len(locations)):\n",
    "        memo = []\n",
    "        for k in range(i,len(locations)):\n",
    "            if len(locations[i]) < len(locations[k]):\n",
    "                if locations[k].find(locations[i])!= -1:\n",
    "                    locations[k] = locations[i]\n",
    "                    memo.append(k)\n",
    "            if len(locations[i]) > len(locations[k]):\n",
    "                    if locations[i].find(locations[k])!= -1:\n",
    "                        locations[i] = locations[k]\n",
    "                        memo.append(k)\n",
    "        "
   ]
  },
  {
   "cell_type": "code",
   "execution_count": 569,
   "metadata": {},
   "outputs": [],
   "source": [
    "for key in comp_dict.keys():\n",
    "    new_list = []\n",
    "    location = comp_dict[key]\n",
    "    for i in location:\n",
    "        if i not in new_list:\n",
    "            new_list.append(i)\n",
    "    comp_dict[key] = new_list"
   ]
  },
  {
   "cell_type": "code",
   "execution_count": 570,
   "metadata": {},
   "outputs": [
    {
     "name": "stdout",
     "output_type": "stream",
     "text": [
      "['Kochi', 'Kolkata', 'Pune', ' Gurgaon', ' Chennai', ' Coimbatore', 'Bangalore', 'Mumbai', 'Hyderabad', 'Delhi']\n"
     ]
    }
   ],
   "source": [
    "print(comp_dict['Wipro'])"
   ]
  },
  {
   "cell_type": "code",
   "execution_count": 571,
   "metadata": {},
   "outputs": [],
   "source": [
    "comp_dict1 = copy.deepcopy(comp_dict)\n",
    "for keys in comp_dict1.keys():\n",
    "    comp_dict1[keys] = len(comp_dict[keys])"
   ]
  },
  {
   "cell_type": "code",
   "execution_count": 572,
   "metadata": {},
   "outputs": [],
   "source": [
    "locat_list = []\n",
    "for key in comp_dict.keys():   \n",
    "    list_val = comp_dict[key]\n",
    "    for i in range(len(list_val)):\n",
    "        if list_val[i] not in locat_list:\n",
    "            locat_list.append(list_val[i])"
   ]
  },
  {
   "cell_type": "code",
   "execution_count": 573,
   "metadata": {},
   "outputs": [
    {
     "name": "stdout",
     "output_type": "stream",
     "text": [
      "['Kochi', 'Kolkata', 'Pune', ' Gurgaon', ' Chennai', ' Coimbatore', 'Bangalore', 'Mumbai', 'Hyderabad', 'Delhi', 'Noida', 'Chennai', ' Bangalore', ' Pune', 'Gurgaon', ' Kota', ' Mumbai', ' Chandigarh', ' Lucknow', ' Agra', ' Jaipur', ' Kolkata', ' Visakhapatnam', ' Hyderabad', ' Nagpur', 'on', 'Indore', 'Japan', 'NewDelhi', 'India', 'Bengaluru', ' Delhi ', 'remote', 'Panaji', 'Ahmedabad\\\\n', ' pune', 'Remote', ' Ahmedabad', 'Chennai\\\\n', 'Pune\\\\n', 'Thane', 'Ahmedabad', ' New Delhi', 'Trivandrum', 'Jaipur', 'Delhi ', 'UnitedStates', 'BangaloreEast', 'SilokheraGurgaon', 'Surat\\\\n', 'New Delhi', 'Chandigarh', 'Bharuch', ' Bhopal', ' Jhansi', ' Ghaziabad', ' Jaunpur', ' Kanpur', ' Delhi', ' Rajkot', 'Vadodara', 'Coimbatore', 'Bhubaneswar', 'UttarPradesh', ' uttar pradesh', 'rajasthan', 'Panchkula', 'Mohali', 'Faridabad', 'NCR', 'Notspecified', ' Mumbai (All Areas)', 'India\\\\n', 'Hosur', 'Maharashtra', ' Rewari', ' Beri', ' Jhajjar', ' Bhiwadi', ' Matenhail', 'haryana', 'NaviMumbai', 'mangalagiri', 'Kalyani', ' Nagar', 'REMOTE', 'Mysore', 'Nagpur', 'Kolkata\\\\n', 'Dehradun', 'Kakinada', 'United States (USA)', 'Cochin', ' Jamshedpur', 'Jamshedpur\\\\n', 'india', 'Surat', ' henry', 'uttar pradesh', 'Jharsuguda', 'bhubaneswar', 'Jamshedpur', 'Kanpur', 'Kozhikode', 'Mumbai\\\\n', 'Palghat', 'NotSpecified', 'Guntur', 'AndheriEast', 'karnataka', 'Mumbai (All Areas)', 'MiraRoad', 'Noida\\\\n', ' Trivandrum', 'Tirupati', ' Karnataka', ' Telangana', ' Andhra Pradesh', 'TamilNadu', 'St Louis', 'Missourie', 'MumbaiSuburban', ' North Goa', 'Karnataka', 'DelhiNCR', 'Bhubaneshwar', 'Ghaziabad', 'Tiruchirapalli', 'punjab', 'Tirupur', 'notspecified', 'USA']\n"
     ]
    }
   ],
   "source": [
    "print(locat_list)"
   ]
  },
  {
   "cell_type": "code",
   "execution_count": 574,
   "metadata": {},
   "outputs": [
    {
     "name": "stdout",
     "output_type": "stream",
     "text": [
      "1\n",
      "<class 'str'>\n"
     ]
    }
   ],
   "source": [
    "print(data.loc[10,'skills'].find(\"\\n\"))\n",
    "print(type(data.loc[10,'skills']))"
   ]
  },
  {
   "cell_type": "code",
   "execution_count": 575,
   "metadata": {},
   "outputs": [],
   "source": [
    "for i in range(len(data)):\n",
    "    k = str(data.loc[i,'skills'])"
   ]
  },
  {
   "cell_type": "code",
   "execution_count": 576,
   "metadata": {},
   "outputs": [],
   "source": [
    "data[\"skill index\"] = data[\"skills\"].str.find(\"\\n\")"
   ]
  },
  {
   "cell_type": "code",
   "execution_count": 577,
   "metadata": {},
   "outputs": [
    {
     "data": {
      "text/plain": [
       "numpy.float64"
      ]
     },
     "execution_count": 577,
     "metadata": {},
     "output_type": "execute_result"
    }
   ],
   "source": [
    "type(data.loc[10,\"skill index\"])"
   ]
  },
  {
   "cell_type": "code",
   "execution_count": 578,
   "metadata": {},
   "outputs": [
    {
     "name": "stdout",
     "output_type": "stream",
     "text": [
      "he\n"
     ]
    }
   ],
   "source": [
    "for i in range(len(data)):\n",
    "    k = data.loc[i,\"skill index\"]\n",
    "    if k == 1.0:\n",
    "        r =data.loc[i,\"skills\"].split(\"\\n\")\n",
    "        data.loc[i,\"skills\"] = str(r)"
   ]
  },
  {
   "cell_type": "code",
   "execution_count": 581,
   "metadata": {},
   "outputs": [],
   "source": [
    "data['skills'] = data['skills'].str.split(\"'\")\n",
    "    "
   ]
  },
  {
   "cell_type": "code",
   "execution_count": 582,
   "metadata": {},
   "outputs": [],
   "source": [
    "df = copy.deepcopy(data['skills'])"
   ]
  },
  {
   "cell_type": "code",
   "execution_count": 583,
   "metadata": {},
   "outputs": [],
   "source": [
    "for i in range(len(df)):\n",
    "    df.loc[i] = str(df.loc[i])"
   ]
  },
  {
   "cell_type": "code",
   "execution_count": 584,
   "metadata": {},
   "outputs": [
    {
     "data": {
      "text/html": [
       "<div>\n",
       "<style scoped>\n",
       "    .dataframe tbody tr th:only-of-type {\n",
       "        vertical-align: middle;\n",
       "    }\n",
       "\n",
       "    .dataframe tbody tr th {\n",
       "        vertical-align: top;\n",
       "    }\n",
       "\n",
       "    .dataframe thead th {\n",
       "        text-align: right;\n",
       "    }\n",
       "</style>\n",
       "<table border=\"1\" class=\"dataframe\">\n",
       "  <thead>\n",
       "    <tr style=\"text-align: right;\">\n",
       "      <th></th>\n",
       "      <th>Unnamed: 0</th>\n",
       "      <th>Unnamed: 0.1</th>\n",
       "      <th>Unnamed: 0.1.1</th>\n",
       "      <th>roles</th>\n",
       "      <th>companies</th>\n",
       "      <th>locations</th>\n",
       "      <th>experience</th>\n",
       "      <th>skills</th>\n",
       "      <th>skill index</th>\n",
       "    </tr>\n",
       "  </thead>\n",
       "  <tbody>\n",
       "    <tr>\n",
       "      <th>0</th>\n",
       "      <td>0</td>\n",
       "      <td>0</td>\n",
       "      <td>0</td>\n",
       "      <td>Data Scientist - Lead / Architect  Wipro</td>\n",
       "      <td>Wipro</td>\n",
       "      <td>'Kochi', ' Kolkata', ' Pune', ' Gurgaon', ' Ch...</td>\n",
       "      <td>5-10</td>\n",
       "      <td>[, Data Science, , , SAS, , , Python, , , IT S...</td>\n",
       "      <td>-1.0</td>\n",
       "    </tr>\n",
       "    <tr>\n",
       "      <th>1</th>\n",
       "      <td>1</td>\n",
       "      <td>1</td>\n",
       "      <td>1</td>\n",
       "      <td>Urgent Requirement || Data Scientist || Noida</td>\n",
       "      <td>HCL</td>\n",
       "      <td>'Noida', 'Delhi'</td>\n",
       "      <td>3-8</td>\n",
       "      <td>[, IT Skills, , , Python, , , Machine Learning...</td>\n",
       "      <td>-1.0</td>\n",
       "    </tr>\n",
       "    <tr>\n",
       "      <th>2</th>\n",
       "      <td>2</td>\n",
       "      <td>2</td>\n",
       "      <td>2</td>\n",
       "      <td>Global Tax Automation &amp; Operations - Data Scie...</td>\n",
       "      <td>Dell</td>\n",
       "      <td>'Bangalore'</td>\n",
       "      <td>3-5</td>\n",
       "      <td>[, Artificial Intelligence, , , Data Science, ...</td>\n",
       "      <td>-1.0</td>\n",
       "    </tr>\n",
       "    <tr>\n",
       "      <th>3</th>\n",
       "      <td>3</td>\n",
       "      <td>3</td>\n",
       "      <td>3</td>\n",
       "      <td>Data Analyst / Data Scientist / Business Analy...</td>\n",
       "      <td>GABA Consultancy services</td>\n",
       "      <td>'Noida', ' New Delhi', 'Delhi'</td>\n",
       "      <td>0-0</td>\n",
       "      <td>[, O2C, , , fresher data analyst, , , Power Bi...</td>\n",
       "      <td>-1.0</td>\n",
       "    </tr>\n",
       "    <tr>\n",
       "      <th>4</th>\n",
       "      <td>4</td>\n",
       "      <td>4</td>\n",
       "      <td>4</td>\n",
       "      <td>Technical Architect/ Data Scientist</td>\n",
       "      <td>DMI Innovations Pvt. Ltd</td>\n",
       "      <td>'Noida', ' Pune', ' Chennai', 'Bangalore'</td>\n",
       "      <td>8-13</td>\n",
       "      <td>[, IT Skills, , , Python, , , Software Develop...</td>\n",
       "      <td>-1.0</td>\n",
       "    </tr>\n",
       "    <tr>\n",
       "      <th>...</th>\n",
       "      <td>...</td>\n",
       "      <td>...</td>\n",
       "      <td>...</td>\n",
       "      <td>...</td>\n",
       "      <td>...</td>\n",
       "      <td>...</td>\n",
       "      <td>...</td>\n",
       "      <td>...</td>\n",
       "      <td>...</td>\n",
       "    </tr>\n",
       "    <tr>\n",
       "      <th>4174</th>\n",
       "      <td>4174</td>\n",
       "      <td>75</td>\n",
       "      <td>75</td>\n",
       "      <td>Data Scientist - Deep Learning Solutions</td>\n",
       "      <td>Huquo Consulting Pvt. Ltd</td>\n",
       "      <td>'Noida', ' Pune', ' Gurgaon', 'Bangalore'</td>\n",
       "      <td>1-6</td>\n",
       "      <td>[, NLP, , , Deep Learning, , , TensorFlow, , ,...</td>\n",
       "      <td>-1.0</td>\n",
       "    </tr>\n",
       "    <tr>\n",
       "      <th>4175</th>\n",
       "      <td>4175</td>\n",
       "      <td>76</td>\n",
       "      <td>76</td>\n",
       "      <td>Python AI ML Developer and Data Scientist at F...</td>\n",
       "      <td>Fluid AI</td>\n",
       "      <td>'Remote'</td>\n",
       "      <td>0-5</td>\n",
       "      <td>[, Data Science, , , Machine Learning, , , Pyt...</td>\n",
       "      <td>-1.0</td>\n",
       "    </tr>\n",
       "    <tr>\n",
       "      <th>4176</th>\n",
       "      <td>4176</td>\n",
       "      <td>77</td>\n",
       "      <td>77</td>\n",
       "      <td>Data Scientist</td>\n",
       "      <td>Princeton IT Services Pvt Ltd</td>\n",
       "      <td>'Hyderabad', 'Bangalore'</td>\n",
       "      <td>3-8</td>\n",
       "      <td>[, Transformers, , , CNN, , , data analysis, ,...</td>\n",
       "      <td>-1.0</td>\n",
       "    </tr>\n",
       "    <tr>\n",
       "      <th>4177</th>\n",
       "      <td>4177</td>\n",
       "      <td>78</td>\n",
       "      <td>78</td>\n",
       "      <td>Data Scientist</td>\n",
       "      <td>PRI India</td>\n",
       "      <td>'Bangalore'</td>\n",
       "      <td>4-8</td>\n",
       "      <td>[, learning, , , Python, , , Tensorflow, , , J...</td>\n",
       "      <td>-1.0</td>\n",
       "    </tr>\n",
       "    <tr>\n",
       "      <th>4178</th>\n",
       "      <td>4178</td>\n",
       "      <td>79</td>\n",
       "      <td>79</td>\n",
       "      <td>Associate Principal Consultant (Business Analyst)</td>\n",
       "      <td>Nagarro</td>\n",
       "      <td>'Remote'</td>\n",
       "      <td>9-12</td>\n",
       "      <td>[, data science, , , Data Warehouse Design, , ...</td>\n",
       "      <td>-1.0</td>\n",
       "    </tr>\n",
       "  </tbody>\n",
       "</table>\n",
       "<p>4179 rows × 9 columns</p>\n",
       "</div>"
      ],
      "text/plain": [
       "      Unnamed: 0  Unnamed: 0.1  Unnamed: 0.1.1  \\\n",
       "0              0             0               0   \n",
       "1              1             1               1   \n",
       "2              2             2               2   \n",
       "3              3             3               3   \n",
       "4              4             4               4   \n",
       "...          ...           ...             ...   \n",
       "4174        4174            75              75   \n",
       "4175        4175            76              76   \n",
       "4176        4176            77              77   \n",
       "4177        4177            78              78   \n",
       "4178        4178            79              79   \n",
       "\n",
       "                                                  roles  \\\n",
       "0              Data Scientist - Lead / Architect  Wipro   \n",
       "1         Urgent Requirement || Data Scientist || Noida   \n",
       "2     Global Tax Automation & Operations - Data Scie...   \n",
       "3     Data Analyst / Data Scientist / Business Analy...   \n",
       "4                   Technical Architect/ Data Scientist   \n",
       "...                                                 ...   \n",
       "4174           Data Scientist - Deep Learning Solutions   \n",
       "4175  Python AI ML Developer and Data Scientist at F...   \n",
       "4176                                     Data Scientist   \n",
       "4177                                     Data Scientist   \n",
       "4178  Associate Principal Consultant (Business Analyst)   \n",
       "\n",
       "                          companies  \\\n",
       "0                             Wipro   \n",
       "1                               HCL   \n",
       "2                              Dell   \n",
       "3         GABA Consultancy services   \n",
       "4          DMI Innovations Pvt. Ltd   \n",
       "...                             ...   \n",
       "4174      Huquo Consulting Pvt. Ltd   \n",
       "4175                       Fluid AI   \n",
       "4176  Princeton IT Services Pvt Ltd   \n",
       "4177                      PRI India   \n",
       "4178                        Nagarro   \n",
       "\n",
       "                                              locations experience  \\\n",
       "0     'Kochi', ' Kolkata', ' Pune', ' Gurgaon', ' Ch...      5-10    \n",
       "1                                      'Noida', 'Delhi'       3-8    \n",
       "2                                           'Bangalore'       3-5    \n",
       "3                        'Noida', ' New Delhi', 'Delhi'       0-0    \n",
       "4             'Noida', ' Pune', ' Chennai', 'Bangalore'      8-13    \n",
       "...                                                 ...        ...   \n",
       "4174          'Noida', ' Pune', ' Gurgaon', 'Bangalore'       1-6    \n",
       "4175                                           'Remote'       0-5    \n",
       "4176                           'Hyderabad', 'Bangalore'       3-8    \n",
       "4177                                        'Bangalore'       4-8    \n",
       "4178                                           'Remote'      9-12    \n",
       "\n",
       "                                                 skills  skill index  \n",
       "0     [, Data Science, , , SAS, , , Python, , , IT S...         -1.0  \n",
       "1     [, IT Skills, , , Python, , , Machine Learning...         -1.0  \n",
       "2     [, Artificial Intelligence, , , Data Science, ...         -1.0  \n",
       "3     [, O2C, , , fresher data analyst, , , Power Bi...         -1.0  \n",
       "4     [, IT Skills, , , Python, , , Software Develop...         -1.0  \n",
       "...                                                 ...          ...  \n",
       "4174  [, NLP, , , Deep Learning, , , TensorFlow, , ,...         -1.0  \n",
       "4175  [, Data Science, , , Machine Learning, , , Pyt...         -1.0  \n",
       "4176  [, Transformers, , , CNN, , , data analysis, ,...         -1.0  \n",
       "4177  [, learning, , , Python, , , Tensorflow, , , J...         -1.0  \n",
       "4178  [, data science, , , Data Warehouse Design, , ...         -1.0  \n",
       "\n",
       "[4179 rows x 9 columns]"
      ]
     },
     "execution_count": 584,
     "metadata": {},
     "output_type": "execute_result"
    }
   ],
   "source": [
    "data"
   ]
  },
  {
   "cell_type": "code",
   "execution_count": 585,
   "metadata": {},
   "outputs": [],
   "source": [
    "skills_selected = []\n",
    "for i in range(len(data)):\n",
    "    k = data.loc[i,'skills']\n",
    "    if type(k) != float:\n",
    "        for j in range(len(k)):\n",
    "            if k[j] not in skills_selected:\n",
    "                skills_selected.append(k[j])"
   ]
  },
  {
   "cell_type": "code",
   "execution_count": 586,
   "metadata": {},
   "outputs": [],
   "source": [
    "skills_dict = {}\n",
    "for i in range(len(data)):\n",
    "    k = data.loc[i,'skills']\n",
    "    if type(k)!=float:\n",
    "        for j in range(len(k)):\n",
    "            if k[j] not in skills_dict.keys():\n",
    "                skills_dict[k[j]] = 0\n",
    "            elif k[j] in skills_dict.keys():\n",
    "                skills_dict[k[j]]+=1\n",
    "    "
   ]
  },
  {
   "cell_type": "code",
   "execution_count": 587,
   "metadata": {},
   "outputs": [],
   "source": [
    "to_work = copy.deepcopy(skills_dict)\n",
    "max_ten = []\n",
    "for i in range(15):\n",
    "    k = max(to_work,key=to_work.get)\n",
    "    max_ten.append(k)\n",
    "    del to_work[k]\n",
    "    "
   ]
  },
  {
   "cell_type": "code",
   "execution_count": 588,
   "metadata": {},
   "outputs": [],
   "source": [
    "# print(max_ten)\n",
    "for i in range(2):\n",
    "    max_ten.pop(0)\n",
    "for i in range(len(max_ten)):\n",
    "    max_ten[i] = max_ten[i].lower()\n"
   ]
  },
  {
   "cell_type": "code",
   "execution_count": 589,
   "metadata": {},
   "outputs": [
    {
     "name": "stdout",
     "output_type": "stream",
     "text": [
      "['python', 'machine learning', 'it skills', 'data science', 'machine learning', 'computer science', 'artificial intelligence', 'data science', 'r', 'data scientist', 'java', 'sql', 'big data']\n"
     ]
    }
   ],
   "source": [
    "print(max_ten)"
   ]
  },
  {
   "cell_type": "code",
   "execution_count": 590,
   "metadata": {},
   "outputs": [],
   "source": [
    "max_ten =list(dict.fromkeys(max_ten))"
   ]
  },
  {
   "cell_type": "code",
   "execution_count": 591,
   "metadata": {},
   "outputs": [
    {
     "name": "stdout",
     "output_type": "stream",
     "text": [
      "['python', 'machine learning', 'it skills', 'data science', 'computer science', 'artificial intelligence', 'r', 'data scientist', 'java', 'sql', 'big data']\n"
     ]
    }
   ],
   "source": [
    "print(max_ten)"
   ]
  },
  {
   "cell_type": "code",
   "execution_count": 596,
   "metadata": {},
   "outputs": [],
   "source": [
    "skills = [] \n",
    "for i in range(len(data)):\n",
    "    k = data.loc[i,'skills']\n",
    "    if type(k) == list:\n",
    "        for j in range(len(k)):\n",
    "            if k[j] not in skills:\n",
    "                skills.append(k[j])"
   ]
  },
  {
   "cell_type": "code",
   "execution_count": 598,
   "metadata": {},
   "outputs": [],
   "source": [
    "for i in range(len(data)):\n",
    "    k = data.loc[i,'skills']\n",
    "    if type(k) == list:\n",
    "        for l in range(len(k)):\n",
    "            r = k[l].lower()\n",
    "            if r in max_ten:\n",
    "                k[l] = r\n",
    "            else:\n",
    "                k[l] = '_'            "
   ]
  },
  {
   "cell_type": "code",
   "execution_count": 603,
   "metadata": {},
   "outputs": [],
   "source": [
    "to_drop = []\n",
    "for i  in range(len(data)):\n",
    "    k = data.loc[i,'skills']\n",
    "    if type(k) == float:\n",
    "        to_drop.append(i)\n"
   ]
  },
  {
   "cell_type": "code",
   "execution_count": 604,
   "metadata": {},
   "outputs": [],
   "source": [
    "data.drop(labels=to_drop,inplace=True)\n",
    "x= data.iloc[:,3:]"
   ]
  },
  {
   "cell_type": "code",
   "execution_count": 607,
   "metadata": {},
   "outputs": [],
   "source": [
    "x.to_csv(\"segmented_data.csv\")"
   ]
  }
 ],
 "metadata": {
  "interpreter": {
   "hash": "b67277703e4e03d4913fd324b008a8c782f8a474d6a5c5bfbeaeadcab747c5e8"
  },
  "kernelspec": {
   "display_name": "Python 3.8.0 ('tf2.5')",
   "language": "python",
   "name": "python3"
  },
  "language_info": {
   "codemirror_mode": {
    "name": "ipython",
    "version": 3
   },
   "file_extension": ".py",
   "mimetype": "text/x-python",
   "name": "python",
   "nbconvert_exporter": "python",
   "pygments_lexer": "ipython3",
   "version": "3.8.0"
  },
  "orig_nbformat": 4
 },
 "nbformat": 4,
 "nbformat_minor": 2
}
